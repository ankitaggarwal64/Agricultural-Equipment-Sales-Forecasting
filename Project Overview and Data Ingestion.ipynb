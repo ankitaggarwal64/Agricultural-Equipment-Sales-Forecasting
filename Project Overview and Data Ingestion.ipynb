{
  "nbformat": 4,
  "nbformat_minor": 0,
  "metadata": {
    "colab": {
      "name": "Sales Forecasting_Data Ingestion.ipynb",
      "provenance": [],
      "collapsed_sections": [],
      "mount_file_id": "140z8ul09KuYGQ_oNbmE-fzoub3KlG5gm",
      "authorship_tag": "ABX9TyNrNNndZGsgcMSMYHSO0R2J",
      "include_colab_link": true
    },
    "kernelspec": {
      "name": "python3",
      "display_name": "Python 3"
    }
  },
  "cells": [
    {
      "cell_type": "markdown",
      "metadata": {
        "id": "view-in-github",
        "colab_type": "text"
      },
      "source": [
        "<a href=\"https://colab.research.google.com/github/ankitaggarwal64/Agricultural-Equipment-Sales-Forecasting/blob/main/Project%20Overview%20and%20Data%20Ingestion.ipynb\" target=\"_parent\"><img src=\"https://colab.research.google.com/assets/colab-badge.svg\" alt=\"Open In Colab\"/></a>"
      ]
    },
    {
      "cell_type": "markdown",
      "metadata": {
        "id": "Y0luDaTdNz2S"
      },
      "source": [
        "### **Agriculture Equipment Monthly Sales Forecasting** \n",
        "\t\n",
        "**Overview:**\n",
        "This project is done to provide a multinational automobile company with the best sales forecasting model for their agricultual equipments. Along with the actual sales data, company provided other relevant data including economic and commodity indices which might be helpful for forecasting.\n",
        "\n",
        "\n",
        "\n",
        "---\n",
        "\n",
        "\n",
        "**Data Description:**\n",
        "Following two types of information is provided :\n",
        "1.   *Past Sales Data :* January 1990 to December 2016 (27 Years)\n",
        "\n",
        "\n",
        "2.  *Additional Predictive Information ( 3 excel worksheets)*\n",
        "*   Monthly Macroeconomic Indices ( GDP, Unemployment rate, CPI, 30YearMtggRate etc.)\n",
        "*   Monthly Commodity Indices ( Hay, Corn, Wheat, Dairy, Livestock, BRLCSPOT.D7 etc.)\n",
        "*    Annual Indices for US agricultural and economic forecast information \n",
        "\n",
        "\n",
        "\n",
        "---\n",
        "\n",
        "\n",
        "\n",
        "**Problem Statement:**\n",
        "Develop an accurate sales prediction model for forecasting the sales for next 12 months in future.\n",
        "\n",
        "\n",
        "---\n",
        "**Metrics**:\n",
        "\n",
        " \n",
        "\n",
        "*   RMSE(Root Mean Squared Error) will be considered as primary performance metric.\n",
        "*   Other tracked metrics: MAPE(Mean Absolute Percentage) and Bias\n",
        "*   Uncertainity in forecasting will also needs to be closed tracked.\n",
        "\n",
        "\n",
        "\n",
        "\n"
      ]
    },
    {
      "cell_type": "markdown",
      "metadata": {
        "id": "rVZjaWVGZkKI"
      },
      "source": [
        "**Data Understanding and Data Ingestion :**\n",
        " Further in this noteook, we will look at all the provided data, filter out the relevant data and try to consolidate all the required data in a single file."
      ]
    },
    {
      "cell_type": "code",
      "metadata": {
        "id": "dLCU4fpVbBlz"
      },
      "source": [
        "# Importing libraries \n",
        "import pandas as pd"
      ],
      "execution_count": null,
      "outputs": []
    },
    {
      "cell_type": "code",
      "metadata": {
        "id": "sXGpi89jikN7",
        "outputId": "c9a027b0-09cd-4bc6-cade-91c8afebb76a",
        "colab": {
          "base_uri": "https://localhost:8080/"
        }
      },
      "source": [
        "# Read sales data excel workbook\n",
        "sales_workbook = pd.ExcelFile(\"/content/drive/My Drive/1. Data Science/Sales Forecasting_Masters Project/Masters Project/Data/Raw Data/AG Industry_2017-02-13.xlsx\")\n",
        "# Listing out the worksheet in the excel workbook\n",
        "print(sales_workbook.sheet_names) \n",
        "# Looks like each sheet correspond to sales data for a particular product"
      ],
      "execution_count": null,
      "outputs": [
        {
          "output_type": "stream",
          "text": [
            "['Total', 'Tractors 0-20', 'Tractors 20-40', 'Tractors 0-40', 'Tractors 40-60', 'Tractors 60-100', 'Tractors 100-140', 'Tractors 140+', '4WD', 'Combines', 'SP Sprayers', 'DMC', 'SMC', 'RND B', 'SM SQ B', 'LG SQ  B', 'SPFH ', 'SPW']\n"
          ],
          "name": "stdout"
        }
      ]
    },
    {
      "cell_type": "code",
      "metadata": {
        "id": "qFhEC1JgitaR",
        "outputId": "8f42ea43-ee42-45d7-dbd4-f92bc4078546",
        "colab": {
          "base_uri": "https://localhost:8080/"
        }
      },
      "source": [
        "# Creating a dictionary of sheets in workbook\n",
        "Sales_dict = {sheet: sales_workbook.parse(sheet) for sheet in sales_workbook.sheet_names}\n",
        "print(type(Sales))"
      ],
      "execution_count": null,
      "outputs": [
        {
          "output_type": "stream",
          "text": [
            "<class 'dict'>\n"
          ],
          "name": "stdout"
        }
      ]
    },
    {
      "cell_type": "markdown",
      "metadata": {
        "id": "3Tr-F1Zlc-v_"
      },
      "source": [
        "As a proof of concept, we will first work on only one product \"4wd\" from all the available products data \n"
      ]
    },
    {
      "cell_type": "code",
      "metadata": {
        "id": "RAtN7ofoitWi",
        "outputId": "6aee20ea-57ff-42e3-ad3c-d688ba87d9d1",
        "colab": {
          "base_uri": "https://localhost:8080/"
        }
      },
      "source": [
        "# Since we are interested in \"4wd\" sales data, let's extract the corresponding worksheet\n",
        "Sales = Sales_dict['4WD']\n",
        "print(Sales)\n",
        "print(type(Sales))\n",
        "print(Sales.shape)"
      ],
      "execution_count": null,
      "outputs": [
        {
          "output_type": "stream",
          "text": [
            "    INDUSTRY  JAN  FEB  MAR   APR   MAY  ...  AUG  SEP   OCT  NOV  DEC  TOTAL\n",
            "0       1990  505  467  467   593   866  ...  371  269   778  618  531   6771\n",
            "1       1991  241  231  506   703   765  ...  319  296   780  247  522   5483\n",
            "2       1992  271  209  484   413   342  ...  179  168   498  342  323   3719\n",
            "3       1993  313  228  367   613   358  ...  231  277   555  645  698   4839\n",
            "4       1994  356  247  594   574   364  ...  218  268   582  473  550   4781\n",
            "5       1995  366  452  655   810   507  ...  265  316   749  620  706   5920\n",
            "6       1996  457  485  591   977   515  ...  229  380   839  486  564   6169\n",
            "7       1997  378  485  759  1272  1044  ...  451  557   968  654  711   8337\n",
            "8       1998  488  434  759   878   468  ...  217  227   500  325  372   5329\n",
            "9       1999  335  308  395   571   367  ...  133  232   421  257  324   3804\n",
            "10      2000  223  236  420   590   294  ...  187  211   466  144  268   3529\n",
            "11      2001  255  244  491   732   385  ...  158  169   430  225  382   3996\n",
            "12      2002  271  184  374   562   352  ...  112  172   454  114  278   3240\n",
            "13      2003  215  175  335   642   341  ...  128  256   571  160  325   3501\n",
            "14      2004  255  206  448   704   290  ...  171  202   780  223  444   4311\n",
            "15      2005  292  171  381   833   351  ...  243  286   612  233  332   4282\n",
            "16      2006  251  264  446   487   300  ...  151  240   512  148  340   3643\n",
            "17      2007  230  188  449   678   394  ...  167  302   809  271  456   4445\n",
            "18      2008  273  285  585   610   512  ...  412  545   734  342  560   5640\n",
            "19      2009  313  382  499   608   513  ...  399  559   687  315  542   5701\n",
            "20      2010  327  456  705   853   461  ...  412  653  1117  394  750   7132\n",
            "21      2011  506  461  624   883   588  ...  434  700  1125  481  662   7347\n",
            "22      2012  359  487  745   883   611  ...  583  774  1498  632  901   8524\n",
            "23      2013  678  669  702   851   554  ...  587  571  1225  643  960   8470\n",
            "24      2014  631  575  655   745   474  ...  369  486   731  354  512   6329\n",
            "25      2015  220  346  499   430   260  ...  167  249   515  222  516   3992\n",
            "26      2016  243  222  258   335   234  ...  102  200   611  205  328   3137\n",
            "\n",
            "[27 rows x 14 columns]\n",
            "<class 'pandas.core.frame.DataFrame'>\n",
            "(27, 14)\n"
          ],
          "name": "stdout"
        }
      ]
    },
    {
      "cell_type": "markdown",
      "metadata": {
        "id": "y0oSlZHAgXay"
      },
      "source": [
        ""
      ]
    }
  ]
}